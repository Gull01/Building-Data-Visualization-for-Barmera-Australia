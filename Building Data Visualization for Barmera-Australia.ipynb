{
 "cells": [
  {
   "cell_type": "code",
   "execution_count": 2,
   "id": "6c33f019-3ec0-4020-81cf-c300a203483f",
   "metadata": {},
   "outputs": [
    {
     "name": "stderr",
     "output_type": "stream",
     "text": [
      "C:\\Users\\dell\\AppData\\Local\\Temp\\ipykernel_1672\\365433066.py:9: UserWarning: Geometry is in a geographic CRS. Results from 'centroid' are likely incorrect. Use 'GeoSeries.to_crs()' to re-project geometries to a projected CRS before this operation.\n",
      "\n",
      "  center_lat = buildings_gdf.geometry.centroid.y.mean()\n",
      "C:\\Users\\dell\\AppData\\Local\\Temp\\ipykernel_1672\\365433066.py:10: UserWarning: Geometry is in a geographic CRS. Results from 'centroid' are likely incorrect. Use 'GeoSeries.to_crs()' to re-project geometries to a projected CRS before this operation.\n",
      "\n",
      "  center_lon = buildings_gdf.geometry.centroid.x.mean()\n"
     ]
    },
    {
     "name": "stdout",
     "output_type": "stream",
     "text": [
      "Building data map created successfully!\n"
     ]
    }
   ],
   "source": [
    "import folium\n",
    "import geopandas as gpd\n",
    "\n",
    "# Load the shapefile containing building data\n",
    "shapefile_path = \"C:/Users/dell/Desktop/Building/Austrlia_Building.shp\"\n",
    "buildings_gdf = gpd.read_file(shapefile_path)\n",
    "\n",
    "# Create a map centered around the middle of the dataset\n",
    "center_lat = buildings_gdf.geometry.centroid.y.mean()\n",
    "center_lon = buildings_gdf.geometry.centroid.x.mean()\n",
    "\n",
    "# Create a Folium map centered around the buildings\n",
    "map_aus_buildings = folium.Map(location=[center_lat, center_lon], zoom_start=10)\n",
    "\n",
    "# Add a satellite base map\n",
    "folium.TileLayer(\n",
    "    'https://mt1.google.com/vt/lyrs=s&x={x}&y={y}&z={z}', \n",
    "    attr='Google', \n",
    "    name='Google Satellite'\n",
    ").add_to(map_aus_buildings)\n",
    "\n",
    "# Add the building data to the map\n",
    "folium.GeoJson(\n",
    "    buildings_gdf,\n",
    "    name='Buildings',\n",
    "    tooltip=folium.GeoJsonTooltip(fields=['building'], aliases=['Building Type:'], localize=True),\n",
    "    style_function=lambda x: {\n",
    "        'fillColor': 'blue',\n",
    "        'color': 'blue',\n",
    "        'weight': 2,\n",
    "        'opacity': 0.5\n",
    "    }\n",
    ").add_to(map_aus_buildings)\n",
    "\n",
    "# Add additional base maps for switching\n",
    "folium.TileLayer('openstreetmap').add_to(map_aus_buildings)\n",
    "folium.TileLayer('cartodbpositron').add_to(map_aus_buildings)\n",
    "folium.TileLayer('cartodbdark_matter').add_to(map_aus_buildings)\n",
    "folium.TileLayer('stamentoner').add_to(map_aus_buildings)\n",
    "folium.TileLayer('stamenwatercolor').add_to(map_aus_buildings)\n",
    "folium.TileLayer('stamenterrain').add_to(map_aus_buildings)\n",
    "\n",
    "# Add layer control for switching between base maps\n",
    "folium.LayerControl().add_to(map_aus_buildings)\n",
    "\n",
    "# Add a title to the map\n",
    "title_html = '''\n",
    "     <h3 align=\"center\" style=\"font-size:20px\"><b>Building Data Visualization for Barmera-Australia</b></h3>\n",
    "     '''\n",
    "map_aus_buildings.get_root().html.add_child(folium.Element(title_html))\n",
    "\n",
    "# Save the map as an HTML file\n",
    "map_aus_buildings.save(\"aus_building_data_map.html\")\n",
    "\n",
    "# Print a message when map is created\n",
    "print(\"Building data map created successfully!\")\n"
   ]
  },
  {
   "cell_type": "code",
   "execution_count": null,
   "id": "be80563d-084e-41a6-b202-95bd9eac7b21",
   "metadata": {},
   "outputs": [],
   "source": []
  }
 ],
 "metadata": {
  "kernelspec": {
   "display_name": "Python 3 (ipykernel)",
   "language": "python",
   "name": "python3"
  },
  "language_info": {
   "codemirror_mode": {
    "name": "ipython",
    "version": 3
   },
   "file_extension": ".py",
   "mimetype": "text/x-python",
   "name": "python",
   "nbconvert_exporter": "python",
   "pygments_lexer": "ipython3",
   "version": "3.11.7"
  }
 },
 "nbformat": 4,
 "nbformat_minor": 5
}
